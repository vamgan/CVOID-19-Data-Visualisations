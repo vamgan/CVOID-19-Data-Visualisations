{
 "cells": [
  {
   "cell_type": "code",
   "execution_count": 67,
   "metadata": {},
   "outputs": [],
   "source": [
    "import numpy as np \n",
    "import matplotlib.pyplot as plt \n",
    "import matplotlib.colors as mcolors\n",
    "import pandas as pd \n",
    "import random\n",
    "import math\n",
    "import time\n",
    "from sklearn.linear_model import LinearRegression, BayesianRidge\n",
    "from sklearn.model_selection import RandomizedSearchCV, train_test_split\n",
    "from sklearn.svm import SVR\n",
    "from sklearn.metrics import mean_squared_error, mean_absolute_error\n",
    "import datetime\n",
    "import operator\n",
    "plt.style.use('seaborn')\n",
    "from IPython.display import HTML\n",
    "%matplotlib inline \n",
    "import plotly.express as px\n",
    "import plotly.graph_objects as go"
   ]
  },
  {
   "cell_type": "code",
   "execution_count": 27,
   "metadata": {},
   "outputs": [],
   "source": [
    "confirmed_df = pd.read_csv('https://raw.githubusercontent.com/CSSEGISandData/COVID-19/master/csse_covid_19_data/csse_covid_19_time_series/time_series_19-covid-Confirmed.csv')\n",
    "deaths_df = pd.read_csv('https://raw.githubusercontent.com/CSSEGISandData/COVID-19/master/csse_covid_19_data/csse_covid_19_time_series/time_series_19-covid-Deaths.csv')\n",
    "recoveries_df = pd.read_csv('https://raw.githubusercontent.com/CSSEGISandData/COVID-19/master/csse_covid_19_data/csse_covid_19_time_series/time_series_19-covid-Recovered.csv')"
   ]
  },
  {
   "cell_type": "code",
   "execution_count": 28,
   "metadata": {},
   "outputs": [
    {
     "data": {
      "text/html": [
       "<div>\n",
       "<style scoped>\n",
       "    .dataframe tbody tr th:only-of-type {\n",
       "        vertical-align: middle;\n",
       "    }\n",
       "\n",
       "    .dataframe tbody tr th {\n",
       "        vertical-align: top;\n",
       "    }\n",
       "\n",
       "    .dataframe thead th {\n",
       "        text-align: right;\n",
       "    }\n",
       "</style>\n",
       "<table border=\"1\" class=\"dataframe\">\n",
       "  <thead>\n",
       "    <tr style=\"text-align: right;\">\n",
       "      <th></th>\n",
       "      <th>Province/State</th>\n",
       "      <th>Country/Region</th>\n",
       "      <th>Lat</th>\n",
       "      <th>Long</th>\n",
       "      <th>1/22/20</th>\n",
       "      <th>1/23/20</th>\n",
       "      <th>1/24/20</th>\n",
       "      <th>1/25/20</th>\n",
       "      <th>1/26/20</th>\n",
       "      <th>1/27/20</th>\n",
       "      <th>...</th>\n",
       "      <th>3/8/20</th>\n",
       "      <th>3/9/20</th>\n",
       "      <th>3/10/20</th>\n",
       "      <th>3/11/20</th>\n",
       "      <th>3/12/20</th>\n",
       "      <th>3/13/20</th>\n",
       "      <th>3/14/20</th>\n",
       "      <th>3/15/20</th>\n",
       "      <th>3/16/20</th>\n",
       "      <th>3/17/20</th>\n",
       "    </tr>\n",
       "  </thead>\n",
       "  <tbody>\n",
       "    <tr>\n",
       "      <th>0</th>\n",
       "      <td>NaN</td>\n",
       "      <td>Thailand</td>\n",
       "      <td>15.0000</td>\n",
       "      <td>101.0000</td>\n",
       "      <td>2</td>\n",
       "      <td>3</td>\n",
       "      <td>5</td>\n",
       "      <td>7</td>\n",
       "      <td>8</td>\n",
       "      <td>8</td>\n",
       "      <td>...</td>\n",
       "      <td>50</td>\n",
       "      <td>50</td>\n",
       "      <td>53</td>\n",
       "      <td>59</td>\n",
       "      <td>70</td>\n",
       "      <td>75</td>\n",
       "      <td>82</td>\n",
       "      <td>114</td>\n",
       "      <td>147</td>\n",
       "      <td>177</td>\n",
       "    </tr>\n",
       "    <tr>\n",
       "      <th>1</th>\n",
       "      <td>NaN</td>\n",
       "      <td>Japan</td>\n",
       "      <td>36.0000</td>\n",
       "      <td>138.0000</td>\n",
       "      <td>2</td>\n",
       "      <td>1</td>\n",
       "      <td>2</td>\n",
       "      <td>2</td>\n",
       "      <td>4</td>\n",
       "      <td>4</td>\n",
       "      <td>...</td>\n",
       "      <td>502</td>\n",
       "      <td>511</td>\n",
       "      <td>581</td>\n",
       "      <td>639</td>\n",
       "      <td>639</td>\n",
       "      <td>701</td>\n",
       "      <td>773</td>\n",
       "      <td>839</td>\n",
       "      <td>825</td>\n",
       "      <td>878</td>\n",
       "    </tr>\n",
       "    <tr>\n",
       "      <th>2</th>\n",
       "      <td>NaN</td>\n",
       "      <td>Singapore</td>\n",
       "      <td>1.2833</td>\n",
       "      <td>103.8333</td>\n",
       "      <td>0</td>\n",
       "      <td>1</td>\n",
       "      <td>3</td>\n",
       "      <td>3</td>\n",
       "      <td>4</td>\n",
       "      <td>5</td>\n",
       "      <td>...</td>\n",
       "      <td>150</td>\n",
       "      <td>150</td>\n",
       "      <td>160</td>\n",
       "      <td>178</td>\n",
       "      <td>178</td>\n",
       "      <td>200</td>\n",
       "      <td>212</td>\n",
       "      <td>226</td>\n",
       "      <td>243</td>\n",
       "      <td>266</td>\n",
       "    </tr>\n",
       "    <tr>\n",
       "      <th>3</th>\n",
       "      <td>NaN</td>\n",
       "      <td>Nepal</td>\n",
       "      <td>28.1667</td>\n",
       "      <td>84.2500</td>\n",
       "      <td>0</td>\n",
       "      <td>0</td>\n",
       "      <td>0</td>\n",
       "      <td>1</td>\n",
       "      <td>1</td>\n",
       "      <td>1</td>\n",
       "      <td>...</td>\n",
       "      <td>1</td>\n",
       "      <td>1</td>\n",
       "      <td>1</td>\n",
       "      <td>1</td>\n",
       "      <td>1</td>\n",
       "      <td>1</td>\n",
       "      <td>1</td>\n",
       "      <td>1</td>\n",
       "      <td>1</td>\n",
       "      <td>1</td>\n",
       "    </tr>\n",
       "    <tr>\n",
       "      <th>4</th>\n",
       "      <td>NaN</td>\n",
       "      <td>Malaysia</td>\n",
       "      <td>2.5000</td>\n",
       "      <td>112.5000</td>\n",
       "      <td>0</td>\n",
       "      <td>0</td>\n",
       "      <td>0</td>\n",
       "      <td>3</td>\n",
       "      <td>4</td>\n",
       "      <td>4</td>\n",
       "      <td>...</td>\n",
       "      <td>99</td>\n",
       "      <td>117</td>\n",
       "      <td>129</td>\n",
       "      <td>149</td>\n",
       "      <td>149</td>\n",
       "      <td>197</td>\n",
       "      <td>238</td>\n",
       "      <td>428</td>\n",
       "      <td>566</td>\n",
       "      <td>673</td>\n",
       "    </tr>\n",
       "  </tbody>\n",
       "</table>\n",
       "<p>5 rows × 60 columns</p>\n",
       "</div>"
      ],
      "text/plain": [
       "  Province/State Country/Region      Lat      Long  1/22/20  1/23/20  1/24/20  \\\n",
       "0            NaN       Thailand  15.0000  101.0000        2        3        5   \n",
       "1            NaN          Japan  36.0000  138.0000        2        1        2   \n",
       "2            NaN      Singapore   1.2833  103.8333        0        1        3   \n",
       "3            NaN          Nepal  28.1667   84.2500        0        0        0   \n",
       "4            NaN       Malaysia   2.5000  112.5000        0        0        0   \n",
       "\n",
       "   1/25/20  1/26/20  1/27/20  ...  3/8/20  3/9/20  3/10/20  3/11/20  3/12/20  \\\n",
       "0        7        8        8  ...      50      50       53       59       70   \n",
       "1        2        4        4  ...     502     511      581      639      639   \n",
       "2        3        4        5  ...     150     150      160      178      178   \n",
       "3        1        1        1  ...       1       1        1        1        1   \n",
       "4        3        4        4  ...      99     117      129      149      149   \n",
       "\n",
       "   3/13/20  3/14/20  3/15/20  3/16/20  3/17/20  \n",
       "0       75       82      114      147      177  \n",
       "1      701      773      839      825      878  \n",
       "2      200      212      226      243      266  \n",
       "3        1        1        1        1        1  \n",
       "4      197      238      428      566      673  \n",
       "\n",
       "[5 rows x 60 columns]"
      ]
     },
     "execution_count": 28,
     "metadata": {},
     "output_type": "execute_result"
    }
   ],
   "source": [
    "confirmed_df.head()\n"
   ]
  },
  {
   "cell_type": "code",
   "execution_count": 29,
   "metadata": {},
   "outputs": [],
   "source": [
    "df = pd.DataFrame(confirmed_df)"
   ]
  },
  {
   "cell_type": "code",
   "execution_count": 33,
   "metadata": {},
   "outputs": [
    {
     "name": "stdout",
     "output_type": "stream",
     "text": [
      "Index(['Country/Region', 'Lat', 'Long', '1/22/20', '1/23/20', '1/24/20',\n",
      "       '1/25/20', '1/26/20', '1/27/20', '1/28/20', '1/29/20', '1/30/20',\n",
      "       '1/31/20', '2/1/20', '2/2/20', '2/3/20', '2/4/20', '2/5/20', '2/6/20',\n",
      "       '2/7/20', '2/8/20', '2/9/20', '2/10/20', '2/11/20', '2/12/20',\n",
      "       '2/13/20', '2/14/20', '2/15/20', '2/16/20', '2/17/20', '2/18/20',\n",
      "       '2/19/20', '2/20/20', '2/21/20', '2/22/20', '2/23/20', '2/24/20',\n",
      "       '2/25/20', '2/26/20', '2/27/20', '2/28/20', '2/29/20', '3/1/20',\n",
      "       '3/2/20', '3/3/20', '3/4/20', '3/5/20', '3/6/20', '3/7/20', '3/8/20',\n",
      "       '3/9/20', '3/10/20', '3/11/20', '3/12/20', '3/13/20', '3/14/20',\n",
      "       '3/15/20', '3/16/20'],\n",
      "      dtype='object')\n"
     ]
    }
   ],
   "source": [
    "print(df[['Country/Region','Province/State',]])\n"
   ]
  },
  {
   "cell_type": "code",
   "execution_count": 115,
   "metadata": {},
   "outputs": [],
   "source": [
    "confirmed_table = confirmed_df.iloc[0:100,[1,-1]]\n",
    "deaths = deaths_df.loc[:, cols[4]:cols[-1]]\n",
    "recoveries = recoveries_df.loc[:, cols[4]:cols[-1]]"
   ]
  },
  {
   "cell_type": "code",
   "execution_count": 118,
   "metadata": {},
   "outputs": [
    {
     "name": "stdout",
     "output_type": "stream",
     "text": [
      "            Country/Region  3/17/20\n",
      "0                 Thailand      177\n",
      "1                    Japan      878\n",
      "2                Singapore      266\n",
      "3                    Nepal        1\n",
      "4                 Malaysia      673\n",
      "5                   Canada      103\n",
      "6                Australia      210\n",
      "7                Australia       94\n",
      "8                Australia       78\n",
      "9                 Cambodia       33\n",
      "10               Sri Lanka       44\n",
      "11                 Germany     9257\n",
      "12                 Finland      321\n",
      "13    United Arab Emirates       98\n",
      "14             Philippines      187\n",
      "15                   India      142\n",
      "16                   Italy    31506\n",
      "17                  Sweden     1190\n",
      "18                   Spain    11748\n",
      "19               Australia       29\n",
      "20                 Belgium     1243\n",
      "21                   Egypt      196\n",
      "22               Australia        0\n",
      "23                 Lebanon      120\n",
      "24                    Iraq      154\n",
      "25                    Oman       24\n",
      "26             Afghanistan       22\n",
      "27                 Bahrain      228\n",
      "28                  Kuwait      130\n",
      "29                 Algeria       60\n",
      "..                     ...      ...\n",
      "70                 Hungary       50\n",
      "71               Australia        1\n",
      "72           Liechtenstein        7\n",
      "73                  Poland      238\n",
      "74                 Tunisia       24\n",
      "75  Bosnia and Herzegovina       26\n",
      "76                Slovenia      275\n",
      "77            South Africa       62\n",
      "78                  Bhutan        1\n",
      "79                Cameroon       10\n",
      "80                Colombia       65\n",
      "81              Costa Rica       41\n",
      "82                    Peru      117\n",
      "83                  Serbia       65\n",
      "84                Slovakia       72\n",
      "85                    Togo        1\n",
      "86                   Malta       38\n",
      "87              Martinique       16\n",
      "88                Bulgaria       67\n",
      "89                Maldives       13\n",
      "90              Bangladesh       10\n",
      "91                Paraguay        9\n",
      "92                  Canada      185\n",
      "93                  Canada       74\n",
      "94                  Canada       74\n",
      "95                 Albania       55\n",
      "96                  Cyprus       46\n",
      "97                  Brunei       56\n",
      "98                      US     1076\n",
      "99                      US     1706\n",
      "\n",
      "[100 rows x 2 columns]\n"
     ]
    }
   ],
   "source": [
    "print(confirmed_table)"
   ]
  },
  {
   "cell_type": "code",
   "execution_count": 89,
   "metadata": {},
   "outputs": [],
   "source": [
    "confirmed = confirmed_df.loc[:, cols[4]:cols[-1]]\n",
    "deaths = deaths_df.loc[:, cols[4]:cols[-1]]\n",
    "recoveries = recoveries_df.loc[:, cols[4]:cols[-1]]\n",
    "dates = confirmed.keys()\n",
    "world_cases = []\n",
    "total_deaths = [] \n",
    "mortality_rate = []\n",
    "total_recovered = [] \n",
    "\n",
    "for i in dates:\n",
    "    confirmed_sum = confirmed[i].sum()\n",
    "    death_sum = deaths[i].sum()\n",
    "    recovered_sum = recoveries[i].sum()\n",
    "    world_cases.append(confirmed_sum)\n",
    "    total_deaths.append(death_sum)\n",
    "    mortality_rate.append(death_sum/confirmed_sum)\n",
    "    total_recovered.append(recovered_sum)"
   ]
  },
  {
   "cell_type": "code",
   "execution_count": 63,
   "metadata": {},
   "outputs": [
    {
     "name": "stdout",
     "output_type": "stream",
     "text": [
      "197146\n"
     ]
    }
   ],
   "source": [
    "print(confirmed_sum)"
   ]
  },
  {
   "cell_type": "code",
   "execution_count": 80,
   "metadata": {},
   "outputs": [],
   "source": [
    "fig = go.Figure(data=go.Choropleth(\n",
    "    locations = confirmed_table['Country/Region'],\n",
    "    z = confirmed_table['3/17/20'],\n",
    "    text = confirmed_table['Country/Region'],\n",
    "    locationmode = 'country names',\n",
    "    colorscale = 'Reds',\n",
    "    autocolorscale=True,\n",
    "    reversescale=False,\n",
    "    marker_line_color='darkgray',\n",
    "    marker_line_width=0.5,\n",
    "))"
   ]
  },
  {
   "cell_type": "code",
   "execution_count": 81,
   "metadata": {},
   "outputs": [
    {
     "data": {
      "application/vnd.plotly.v1+json": {
       "config": {
        "plotlyServerURL": "https://plot.ly"
       },
       "data": [
        {
         "autocolorscale": true,
         "colorscale": [
          [
           0,
           "rgb(255,245,240)"
          ],
          [
           0.125,
           "rgb(254,224,210)"
          ],
          [
           0.25,
           "rgb(252,187,161)"
          ],
          [
           0.375,
           "rgb(252,146,114)"
          ],
          [
           0.5,
           "rgb(251,106,74)"
          ],
          [
           0.625,
           "rgb(239,59,44)"
          ],
          [
           0.75,
           "rgb(203,24,29)"
          ],
          [
           0.875,
           "rgb(165,15,21)"
          ],
          [
           1,
           "rgb(103,0,13)"
          ]
         ],
         "locationmode": "country names",
         "locations": [
          "Thailand",
          "Japan",
          "Singapore",
          "Nepal",
          "Malaysia",
          "Canada",
          "Australia",
          "Australia",
          "Australia",
          "Cambodia",
          "Sri Lanka",
          "Germany",
          "Finland",
          "United Arab Emirates",
          "Philippines",
          "India",
          "Italy",
          "Sweden",
          "Spain",
          "Australia",
          "Belgium",
          "Egypt",
          "Australia",
          "Lebanon",
          "Iraq",
          "Oman",
          "Afghanistan",
          "Bahrain",
          "Kuwait",
          "Algeria",
          "Croatia",
          "Switzerland",
          "Austria",
          "Israel",
          "Pakistan",
          "Brazil",
          "Georgia",
          "Greece",
          "North Macedonia",
          "Norway",
          "Romania",
          "Estonia",
          "San Marino",
          "Belarus",
          "Iceland",
          "Lithuania",
          "Mexico",
          "New Zealand",
          "Nigeria",
          "Australia",
          "Ireland",
          "Luxembourg",
          "Monaco",
          "Qatar",
          "Ecuador",
          "Azerbaijan",
          "Armenia",
          "Dominican Republic",
          "Indonesia",
          "Portugal",
          "Andorra",
          "Australia",
          "Latvia",
          "Morocco",
          "Saudi Arabia",
          "Senegal",
          "Argentina",
          "Chile",
          "Jordan",
          "Ukraine",
          "Hungary",
          "Australia",
          "Liechtenstein",
          "Poland",
          "Tunisia",
          "Bosnia and Herzegovina",
          "Slovenia",
          "South Africa",
          "Bhutan",
          "Cameroon",
          "Colombia",
          "Costa Rica",
          "Peru",
          "Serbia",
          "Slovakia",
          "Togo",
          "Malta",
          "Martinique",
          "Bulgaria",
          "Maldives",
          "Bangladesh",
          "Paraguay",
          "Canada",
          "Canada",
          "Canada",
          "Albania",
          "Cyprus",
          "Brunei",
          "US",
          "US"
         ],
         "marker": {
          "line": {
           "color": "darkgray",
           "width": 0.5
          }
         },
         "reversescale": false,
         "text": [
          "Thailand",
          "Japan",
          "Singapore",
          "Nepal",
          "Malaysia",
          "Canada",
          "Australia",
          "Australia",
          "Australia",
          "Cambodia",
          "Sri Lanka",
          "Germany",
          "Finland",
          "United Arab Emirates",
          "Philippines",
          "India",
          "Italy",
          "Sweden",
          "Spain",
          "Australia",
          "Belgium",
          "Egypt",
          "Australia",
          "Lebanon",
          "Iraq",
          "Oman",
          "Afghanistan",
          "Bahrain",
          "Kuwait",
          "Algeria",
          "Croatia",
          "Switzerland",
          "Austria",
          "Israel",
          "Pakistan",
          "Brazil",
          "Georgia",
          "Greece",
          "North Macedonia",
          "Norway",
          "Romania",
          "Estonia",
          "San Marino",
          "Belarus",
          "Iceland",
          "Lithuania",
          "Mexico",
          "New Zealand",
          "Nigeria",
          "Australia",
          "Ireland",
          "Luxembourg",
          "Monaco",
          "Qatar",
          "Ecuador",
          "Azerbaijan",
          "Armenia",
          "Dominican Republic",
          "Indonesia",
          "Portugal",
          "Andorra",
          "Australia",
          "Latvia",
          "Morocco",
          "Saudi Arabia",
          "Senegal",
          "Argentina",
          "Chile",
          "Jordan",
          "Ukraine",
          "Hungary",
          "Australia",
          "Liechtenstein",
          "Poland",
          "Tunisia",
          "Bosnia and Herzegovina",
          "Slovenia",
          "South Africa",
          "Bhutan",
          "Cameroon",
          "Colombia",
          "Costa Rica",
          "Peru",
          "Serbia",
          "Slovakia",
          "Togo",
          "Malta",
          "Martinique",
          "Bulgaria",
          "Maldives",
          "Bangladesh",
          "Paraguay",
          "Canada",
          "Canada",
          "Canada",
          "Albania",
          "Cyprus",
          "Brunei",
          "US",
          "US"
         ],
         "type": "choropleth",
         "z": [
          177,
          878,
          266,
          1,
          673,
          103,
          210,
          94,
          78,
          33,
          44,
          9257,
          321,
          98,
          187,
          142,
          31506,
          1190,
          11748,
          29,
          1243,
          196,
          0,
          120,
          154,
          24,
          22,
          228,
          130,
          60,
          65,
          2700,
          1332,
          337,
          236,
          321,
          34,
          387,
          26,
          1463,
          184,
          225,
          109,
          36,
          220,
          25,
          82,
          12,
          3,
          31,
          223,
          140,
          7,
          439,
          58,
          28,
          78,
          21,
          172,
          448,
          39,
          7,
          49,
          38,
          171,
          26,
          68,
          201,
          34,
          14,
          50,
          1,
          7,
          238,
          24,
          26,
          275,
          62,
          1,
          10,
          65,
          41,
          117,
          65,
          72,
          1,
          38,
          16,
          67,
          13,
          10,
          9,
          185,
          74,
          74,
          55,
          46,
          56,
          1076,
          1706
         ]
        }
       ],
       "layout": {
        "template": {
         "data": {
          "bar": [
           {
            "error_x": {
             "color": "#2a3f5f"
            },
            "error_y": {
             "color": "#2a3f5f"
            },
            "marker": {
             "line": {
              "color": "#E5ECF6",
              "width": 0.5
             }
            },
            "type": "bar"
           }
          ],
          "barpolar": [
           {
            "marker": {
             "line": {
              "color": "#E5ECF6",
              "width": 0.5
             }
            },
            "type": "barpolar"
           }
          ],
          "carpet": [
           {
            "aaxis": {
             "endlinecolor": "#2a3f5f",
             "gridcolor": "white",
             "linecolor": "white",
             "minorgridcolor": "white",
             "startlinecolor": "#2a3f5f"
            },
            "baxis": {
             "endlinecolor": "#2a3f5f",
             "gridcolor": "white",
             "linecolor": "white",
             "minorgridcolor": "white",
             "startlinecolor": "#2a3f5f"
            },
            "type": "carpet"
           }
          ],
          "choropleth": [
           {
            "colorbar": {
             "outlinewidth": 0,
             "ticks": ""
            },
            "type": "choropleth"
           }
          ],
          "contour": [
           {
            "colorbar": {
             "outlinewidth": 0,
             "ticks": ""
            },
            "colorscale": [
             [
              0,
              "#0d0887"
             ],
             [
              0.1111111111111111,
              "#46039f"
             ],
             [
              0.2222222222222222,
              "#7201a8"
             ],
             [
              0.3333333333333333,
              "#9c179e"
             ],
             [
              0.4444444444444444,
              "#bd3786"
             ],
             [
              0.5555555555555556,
              "#d8576b"
             ],
             [
              0.6666666666666666,
              "#ed7953"
             ],
             [
              0.7777777777777778,
              "#fb9f3a"
             ],
             [
              0.8888888888888888,
              "#fdca26"
             ],
             [
              1,
              "#f0f921"
             ]
            ],
            "type": "contour"
           }
          ],
          "contourcarpet": [
           {
            "colorbar": {
             "outlinewidth": 0,
             "ticks": ""
            },
            "type": "contourcarpet"
           }
          ],
          "heatmap": [
           {
            "colorbar": {
             "outlinewidth": 0,
             "ticks": ""
            },
            "colorscale": [
             [
              0,
              "#0d0887"
             ],
             [
              0.1111111111111111,
              "#46039f"
             ],
             [
              0.2222222222222222,
              "#7201a8"
             ],
             [
              0.3333333333333333,
              "#9c179e"
             ],
             [
              0.4444444444444444,
              "#bd3786"
             ],
             [
              0.5555555555555556,
              "#d8576b"
             ],
             [
              0.6666666666666666,
              "#ed7953"
             ],
             [
              0.7777777777777778,
              "#fb9f3a"
             ],
             [
              0.8888888888888888,
              "#fdca26"
             ],
             [
              1,
              "#f0f921"
             ]
            ],
            "type": "heatmap"
           }
          ],
          "heatmapgl": [
           {
            "colorbar": {
             "outlinewidth": 0,
             "ticks": ""
            },
            "colorscale": [
             [
              0,
              "#0d0887"
             ],
             [
              0.1111111111111111,
              "#46039f"
             ],
             [
              0.2222222222222222,
              "#7201a8"
             ],
             [
              0.3333333333333333,
              "#9c179e"
             ],
             [
              0.4444444444444444,
              "#bd3786"
             ],
             [
              0.5555555555555556,
              "#d8576b"
             ],
             [
              0.6666666666666666,
              "#ed7953"
             ],
             [
              0.7777777777777778,
              "#fb9f3a"
             ],
             [
              0.8888888888888888,
              "#fdca26"
             ],
             [
              1,
              "#f0f921"
             ]
            ],
            "type": "heatmapgl"
           }
          ],
          "histogram": [
           {
            "marker": {
             "colorbar": {
              "outlinewidth": 0,
              "ticks": ""
             }
            },
            "type": "histogram"
           }
          ],
          "histogram2d": [
           {
            "colorbar": {
             "outlinewidth": 0,
             "ticks": ""
            },
            "colorscale": [
             [
              0,
              "#0d0887"
             ],
             [
              0.1111111111111111,
              "#46039f"
             ],
             [
              0.2222222222222222,
              "#7201a8"
             ],
             [
              0.3333333333333333,
              "#9c179e"
             ],
             [
              0.4444444444444444,
              "#bd3786"
             ],
             [
              0.5555555555555556,
              "#d8576b"
             ],
             [
              0.6666666666666666,
              "#ed7953"
             ],
             [
              0.7777777777777778,
              "#fb9f3a"
             ],
             [
              0.8888888888888888,
              "#fdca26"
             ],
             [
              1,
              "#f0f921"
             ]
            ],
            "type": "histogram2d"
           }
          ],
          "histogram2dcontour": [
           {
            "colorbar": {
             "outlinewidth": 0,
             "ticks": ""
            },
            "colorscale": [
             [
              0,
              "#0d0887"
             ],
             [
              0.1111111111111111,
              "#46039f"
             ],
             [
              0.2222222222222222,
              "#7201a8"
             ],
             [
              0.3333333333333333,
              "#9c179e"
             ],
             [
              0.4444444444444444,
              "#bd3786"
             ],
             [
              0.5555555555555556,
              "#d8576b"
             ],
             [
              0.6666666666666666,
              "#ed7953"
             ],
             [
              0.7777777777777778,
              "#fb9f3a"
             ],
             [
              0.8888888888888888,
              "#fdca26"
             ],
             [
              1,
              "#f0f921"
             ]
            ],
            "type": "histogram2dcontour"
           }
          ],
          "mesh3d": [
           {
            "colorbar": {
             "outlinewidth": 0,
             "ticks": ""
            },
            "type": "mesh3d"
           }
          ],
          "parcoords": [
           {
            "line": {
             "colorbar": {
              "outlinewidth": 0,
              "ticks": ""
             }
            },
            "type": "parcoords"
           }
          ],
          "pie": [
           {
            "automargin": true,
            "type": "pie"
           }
          ],
          "scatter": [
           {
            "marker": {
             "colorbar": {
              "outlinewidth": 0,
              "ticks": ""
             }
            },
            "type": "scatter"
           }
          ],
          "scatter3d": [
           {
            "line": {
             "colorbar": {
              "outlinewidth": 0,
              "ticks": ""
             }
            },
            "marker": {
             "colorbar": {
              "outlinewidth": 0,
              "ticks": ""
             }
            },
            "type": "scatter3d"
           }
          ],
          "scattercarpet": [
           {
            "marker": {
             "colorbar": {
              "outlinewidth": 0,
              "ticks": ""
             }
            },
            "type": "scattercarpet"
           }
          ],
          "scattergeo": [
           {
            "marker": {
             "colorbar": {
              "outlinewidth": 0,
              "ticks": ""
             }
            },
            "type": "scattergeo"
           }
          ],
          "scattergl": [
           {
            "marker": {
             "colorbar": {
              "outlinewidth": 0,
              "ticks": ""
             }
            },
            "type": "scattergl"
           }
          ],
          "scattermapbox": [
           {
            "marker": {
             "colorbar": {
              "outlinewidth": 0,
              "ticks": ""
             }
            },
            "type": "scattermapbox"
           }
          ],
          "scatterpolar": [
           {
            "marker": {
             "colorbar": {
              "outlinewidth": 0,
              "ticks": ""
             }
            },
            "type": "scatterpolar"
           }
          ],
          "scatterpolargl": [
           {
            "marker": {
             "colorbar": {
              "outlinewidth": 0,
              "ticks": ""
             }
            },
            "type": "scatterpolargl"
           }
          ],
          "scatterternary": [
           {
            "marker": {
             "colorbar": {
              "outlinewidth": 0,
              "ticks": ""
             }
            },
            "type": "scatterternary"
           }
          ],
          "surface": [
           {
            "colorbar": {
             "outlinewidth": 0,
             "ticks": ""
            },
            "colorscale": [
             [
              0,
              "#0d0887"
             ],
             [
              0.1111111111111111,
              "#46039f"
             ],
             [
              0.2222222222222222,
              "#7201a8"
             ],
             [
              0.3333333333333333,
              "#9c179e"
             ],
             [
              0.4444444444444444,
              "#bd3786"
             ],
             [
              0.5555555555555556,
              "#d8576b"
             ],
             [
              0.6666666666666666,
              "#ed7953"
             ],
             [
              0.7777777777777778,
              "#fb9f3a"
             ],
             [
              0.8888888888888888,
              "#fdca26"
             ],
             [
              1,
              "#f0f921"
             ]
            ],
            "type": "surface"
           }
          ],
          "table": [
           {
            "cells": {
             "fill": {
              "color": "#EBF0F8"
             },
             "line": {
              "color": "white"
             }
            },
            "header": {
             "fill": {
              "color": "#C8D4E3"
             },
             "line": {
              "color": "white"
             }
            },
            "type": "table"
           }
          ]
         },
         "layout": {
          "annotationdefaults": {
           "arrowcolor": "#2a3f5f",
           "arrowhead": 0,
           "arrowwidth": 1
          },
          "coloraxis": {
           "colorbar": {
            "outlinewidth": 0,
            "ticks": ""
           }
          },
          "colorscale": {
           "diverging": [
            [
             0,
             "#8e0152"
            ],
            [
             0.1,
             "#c51b7d"
            ],
            [
             0.2,
             "#de77ae"
            ],
            [
             0.3,
             "#f1b6da"
            ],
            [
             0.4,
             "#fde0ef"
            ],
            [
             0.5,
             "#f7f7f7"
            ],
            [
             0.6,
             "#e6f5d0"
            ],
            [
             0.7,
             "#b8e186"
            ],
            [
             0.8,
             "#7fbc41"
            ],
            [
             0.9,
             "#4d9221"
            ],
            [
             1,
             "#276419"
            ]
           ],
           "sequential": [
            [
             0,
             "#0d0887"
            ],
            [
             0.1111111111111111,
             "#46039f"
            ],
            [
             0.2222222222222222,
             "#7201a8"
            ],
            [
             0.3333333333333333,
             "#9c179e"
            ],
            [
             0.4444444444444444,
             "#bd3786"
            ],
            [
             0.5555555555555556,
             "#d8576b"
            ],
            [
             0.6666666666666666,
             "#ed7953"
            ],
            [
             0.7777777777777778,
             "#fb9f3a"
            ],
            [
             0.8888888888888888,
             "#fdca26"
            ],
            [
             1,
             "#f0f921"
            ]
           ],
           "sequentialminus": [
            [
             0,
             "#0d0887"
            ],
            [
             0.1111111111111111,
             "#46039f"
            ],
            [
             0.2222222222222222,
             "#7201a8"
            ],
            [
             0.3333333333333333,
             "#9c179e"
            ],
            [
             0.4444444444444444,
             "#bd3786"
            ],
            [
             0.5555555555555556,
             "#d8576b"
            ],
            [
             0.6666666666666666,
             "#ed7953"
            ],
            [
             0.7777777777777778,
             "#fb9f3a"
            ],
            [
             0.8888888888888888,
             "#fdca26"
            ],
            [
             1,
             "#f0f921"
            ]
           ]
          },
          "colorway": [
           "#636efa",
           "#EF553B",
           "#00cc96",
           "#ab63fa",
           "#FFA15A",
           "#19d3f3",
           "#FF6692",
           "#B6E880",
           "#FF97FF",
           "#FECB52"
          ],
          "font": {
           "color": "#2a3f5f"
          },
          "geo": {
           "bgcolor": "white",
           "lakecolor": "white",
           "landcolor": "#E5ECF6",
           "showlakes": true,
           "showland": true,
           "subunitcolor": "white"
          },
          "hoverlabel": {
           "align": "left"
          },
          "hovermode": "closest",
          "mapbox": {
           "style": "light"
          },
          "paper_bgcolor": "white",
          "plot_bgcolor": "#E5ECF6",
          "polar": {
           "angularaxis": {
            "gridcolor": "white",
            "linecolor": "white",
            "ticks": ""
           },
           "bgcolor": "#E5ECF6",
           "radialaxis": {
            "gridcolor": "white",
            "linecolor": "white",
            "ticks": ""
           }
          },
          "scene": {
           "xaxis": {
            "backgroundcolor": "#E5ECF6",
            "gridcolor": "white",
            "gridwidth": 2,
            "linecolor": "white",
            "showbackground": true,
            "ticks": "",
            "zerolinecolor": "white"
           },
           "yaxis": {
            "backgroundcolor": "#E5ECF6",
            "gridcolor": "white",
            "gridwidth": 2,
            "linecolor": "white",
            "showbackground": true,
            "ticks": "",
            "zerolinecolor": "white"
           },
           "zaxis": {
            "backgroundcolor": "#E5ECF6",
            "gridcolor": "white",
            "gridwidth": 2,
            "linecolor": "white",
            "showbackground": true,
            "ticks": "",
            "zerolinecolor": "white"
           }
          },
          "shapedefaults": {
           "line": {
            "color": "#2a3f5f"
           }
          },
          "ternary": {
           "aaxis": {
            "gridcolor": "white",
            "linecolor": "white",
            "ticks": ""
           },
           "baxis": {
            "gridcolor": "white",
            "linecolor": "white",
            "ticks": ""
           },
           "bgcolor": "#E5ECF6",
           "caxis": {
            "gridcolor": "white",
            "linecolor": "white",
            "ticks": ""
           }
          },
          "title": {
           "x": 0.05
          },
          "xaxis": {
           "automargin": true,
           "gridcolor": "white",
           "linecolor": "white",
           "ticks": "",
           "title": {
            "standoff": 15
           },
           "zerolinecolor": "white",
           "zerolinewidth": 2
          },
          "yaxis": {
           "automargin": true,
           "gridcolor": "white",
           "linecolor": "white",
           "ticks": "",
           "title": {
            "standoff": 15
           },
           "zerolinecolor": "white",
           "zerolinewidth": 2
          }
         }
        }
       }
      },
      "text/html": [
       "<div>\n",
       "        \n",
       "        \n",
       "            <div id=\"adea7e21-d187-4e2b-a729-251f4c47eeb7\" class=\"plotly-graph-div\" style=\"height:525px; width:100%;\"></div>\n",
       "            <script type=\"text/javascript\">\n",
       "                require([\"plotly\"], function(Plotly) {\n",
       "                    window.PLOTLYENV=window.PLOTLYENV || {};\n",
       "                    \n",
       "                if (document.getElementById(\"adea7e21-d187-4e2b-a729-251f4c47eeb7\")) {\n",
       "                    Plotly.newPlot(\n",
       "                        'adea7e21-d187-4e2b-a729-251f4c47eeb7',\n",
       "                        [{\"autocolorscale\": true, \"colorscale\": [[0.0, \"rgb(255,245,240)\"], [0.125, \"rgb(254,224,210)\"], [0.25, \"rgb(252,187,161)\"], [0.375, \"rgb(252,146,114)\"], [0.5, \"rgb(251,106,74)\"], [0.625, \"rgb(239,59,44)\"], [0.75, \"rgb(203,24,29)\"], [0.875, \"rgb(165,15,21)\"], [1.0, \"rgb(103,0,13)\"]], \"locationmode\": \"country names\", \"locations\": [\"Thailand\", \"Japan\", \"Singapore\", \"Nepal\", \"Malaysia\", \"Canada\", \"Australia\", \"Australia\", \"Australia\", \"Cambodia\", \"Sri Lanka\", \"Germany\", \"Finland\", \"United Arab Emirates\", \"Philippines\", \"India\", \"Italy\", \"Sweden\", \"Spain\", \"Australia\", \"Belgium\", \"Egypt\", \"Australia\", \"Lebanon\", \"Iraq\", \"Oman\", \"Afghanistan\", \"Bahrain\", \"Kuwait\", \"Algeria\", \"Croatia\", \"Switzerland\", \"Austria\", \"Israel\", \"Pakistan\", \"Brazil\", \"Georgia\", \"Greece\", \"North Macedonia\", \"Norway\", \"Romania\", \"Estonia\", \"San Marino\", \"Belarus\", \"Iceland\", \"Lithuania\", \"Mexico\", \"New Zealand\", \"Nigeria\", \"Australia\", \"Ireland\", \"Luxembourg\", \"Monaco\", \"Qatar\", \"Ecuador\", \"Azerbaijan\", \"Armenia\", \"Dominican Republic\", \"Indonesia\", \"Portugal\", \"Andorra\", \"Australia\", \"Latvia\", \"Morocco\", \"Saudi Arabia\", \"Senegal\", \"Argentina\", \"Chile\", \"Jordan\", \"Ukraine\", \"Hungary\", \"Australia\", \"Liechtenstein\", \"Poland\", \"Tunisia\", \"Bosnia and Herzegovina\", \"Slovenia\", \"South Africa\", \"Bhutan\", \"Cameroon\", \"Colombia\", \"Costa Rica\", \"Peru\", \"Serbia\", \"Slovakia\", \"Togo\", \"Malta\", \"Martinique\", \"Bulgaria\", \"Maldives\", \"Bangladesh\", \"Paraguay\", \"Canada\", \"Canada\", \"Canada\", \"Albania\", \"Cyprus\", \"Brunei\", \"US\", \"US\"], \"marker\": {\"line\": {\"color\": \"darkgray\", \"width\": 0.5}}, \"reversescale\": false, \"text\": [\"Thailand\", \"Japan\", \"Singapore\", \"Nepal\", \"Malaysia\", \"Canada\", \"Australia\", \"Australia\", \"Australia\", \"Cambodia\", \"Sri Lanka\", \"Germany\", \"Finland\", \"United Arab Emirates\", \"Philippines\", \"India\", \"Italy\", \"Sweden\", \"Spain\", \"Australia\", \"Belgium\", \"Egypt\", \"Australia\", \"Lebanon\", \"Iraq\", \"Oman\", \"Afghanistan\", \"Bahrain\", \"Kuwait\", \"Algeria\", \"Croatia\", \"Switzerland\", \"Austria\", \"Israel\", \"Pakistan\", \"Brazil\", \"Georgia\", \"Greece\", \"North Macedonia\", \"Norway\", \"Romania\", \"Estonia\", \"San Marino\", \"Belarus\", \"Iceland\", \"Lithuania\", \"Mexico\", \"New Zealand\", \"Nigeria\", \"Australia\", \"Ireland\", \"Luxembourg\", \"Monaco\", \"Qatar\", \"Ecuador\", \"Azerbaijan\", \"Armenia\", \"Dominican Republic\", \"Indonesia\", \"Portugal\", \"Andorra\", \"Australia\", \"Latvia\", \"Morocco\", \"Saudi Arabia\", \"Senegal\", \"Argentina\", \"Chile\", \"Jordan\", \"Ukraine\", \"Hungary\", \"Australia\", \"Liechtenstein\", \"Poland\", \"Tunisia\", \"Bosnia and Herzegovina\", \"Slovenia\", \"South Africa\", \"Bhutan\", \"Cameroon\", \"Colombia\", \"Costa Rica\", \"Peru\", \"Serbia\", \"Slovakia\", \"Togo\", \"Malta\", \"Martinique\", \"Bulgaria\", \"Maldives\", \"Bangladesh\", \"Paraguay\", \"Canada\", \"Canada\", \"Canada\", \"Albania\", \"Cyprus\", \"Brunei\", \"US\", \"US\"], \"type\": \"choropleth\", \"z\": [177, 878, 266, 1, 673, 103, 210, 94, 78, 33, 44, 9257, 321, 98, 187, 142, 31506, 1190, 11748, 29, 1243, 196, 0, 120, 154, 24, 22, 228, 130, 60, 65, 2700, 1332, 337, 236, 321, 34, 387, 26, 1463, 184, 225, 109, 36, 220, 25, 82, 12, 3, 31, 223, 140, 7, 439, 58, 28, 78, 21, 172, 448, 39, 7, 49, 38, 171, 26, 68, 201, 34, 14, 50, 1, 7, 238, 24, 26, 275, 62, 1, 10, 65, 41, 117, 65, 72, 1, 38, 16, 67, 13, 10, 9, 185, 74, 74, 55, 46, 56, 1076, 1706]}],\n",
       "                        {\"template\": {\"data\": {\"bar\": [{\"error_x\": {\"color\": \"#2a3f5f\"}, \"error_y\": {\"color\": \"#2a3f5f\"}, \"marker\": {\"line\": {\"color\": \"#E5ECF6\", \"width\": 0.5}}, \"type\": \"bar\"}], \"barpolar\": [{\"marker\": {\"line\": {\"color\": \"#E5ECF6\", \"width\": 0.5}}, \"type\": \"barpolar\"}], \"carpet\": [{\"aaxis\": {\"endlinecolor\": \"#2a3f5f\", \"gridcolor\": \"white\", \"linecolor\": \"white\", \"minorgridcolor\": \"white\", \"startlinecolor\": \"#2a3f5f\"}, \"baxis\": {\"endlinecolor\": \"#2a3f5f\", \"gridcolor\": \"white\", \"linecolor\": \"white\", \"minorgridcolor\": \"white\", \"startlinecolor\": \"#2a3f5f\"}, \"type\": \"carpet\"}], \"choropleth\": [{\"colorbar\": {\"outlinewidth\": 0, \"ticks\": \"\"}, \"type\": \"choropleth\"}], \"contour\": [{\"colorbar\": {\"outlinewidth\": 0, \"ticks\": \"\"}, \"colorscale\": [[0.0, \"#0d0887\"], [0.1111111111111111, \"#46039f\"], [0.2222222222222222, \"#7201a8\"], [0.3333333333333333, \"#9c179e\"], [0.4444444444444444, \"#bd3786\"], [0.5555555555555556, \"#d8576b\"], [0.6666666666666666, \"#ed7953\"], [0.7777777777777778, \"#fb9f3a\"], [0.8888888888888888, \"#fdca26\"], [1.0, \"#f0f921\"]], \"type\": \"contour\"}], \"contourcarpet\": [{\"colorbar\": {\"outlinewidth\": 0, \"ticks\": \"\"}, \"type\": \"contourcarpet\"}], \"heatmap\": [{\"colorbar\": {\"outlinewidth\": 0, \"ticks\": \"\"}, \"colorscale\": [[0.0, \"#0d0887\"], [0.1111111111111111, \"#46039f\"], [0.2222222222222222, \"#7201a8\"], [0.3333333333333333, \"#9c179e\"], [0.4444444444444444, \"#bd3786\"], [0.5555555555555556, \"#d8576b\"], [0.6666666666666666, \"#ed7953\"], [0.7777777777777778, \"#fb9f3a\"], [0.8888888888888888, \"#fdca26\"], [1.0, \"#f0f921\"]], \"type\": \"heatmap\"}], \"heatmapgl\": [{\"colorbar\": {\"outlinewidth\": 0, \"ticks\": \"\"}, \"colorscale\": [[0.0, \"#0d0887\"], [0.1111111111111111, \"#46039f\"], [0.2222222222222222, \"#7201a8\"], [0.3333333333333333, \"#9c179e\"], [0.4444444444444444, \"#bd3786\"], [0.5555555555555556, \"#d8576b\"], [0.6666666666666666, \"#ed7953\"], [0.7777777777777778, \"#fb9f3a\"], [0.8888888888888888, \"#fdca26\"], [1.0, \"#f0f921\"]], \"type\": \"heatmapgl\"}], \"histogram\": [{\"marker\": {\"colorbar\": {\"outlinewidth\": 0, \"ticks\": \"\"}}, \"type\": \"histogram\"}], \"histogram2d\": [{\"colorbar\": {\"outlinewidth\": 0, \"ticks\": \"\"}, \"colorscale\": [[0.0, \"#0d0887\"], [0.1111111111111111, \"#46039f\"], [0.2222222222222222, \"#7201a8\"], [0.3333333333333333, \"#9c179e\"], [0.4444444444444444, \"#bd3786\"], [0.5555555555555556, \"#d8576b\"], [0.6666666666666666, \"#ed7953\"], [0.7777777777777778, \"#fb9f3a\"], [0.8888888888888888, \"#fdca26\"], [1.0, \"#f0f921\"]], \"type\": \"histogram2d\"}], \"histogram2dcontour\": [{\"colorbar\": {\"outlinewidth\": 0, \"ticks\": \"\"}, \"colorscale\": [[0.0, \"#0d0887\"], [0.1111111111111111, \"#46039f\"], [0.2222222222222222, \"#7201a8\"], [0.3333333333333333, \"#9c179e\"], [0.4444444444444444, \"#bd3786\"], [0.5555555555555556, \"#d8576b\"], [0.6666666666666666, \"#ed7953\"], [0.7777777777777778, \"#fb9f3a\"], [0.8888888888888888, \"#fdca26\"], [1.0, \"#f0f921\"]], \"type\": \"histogram2dcontour\"}], \"mesh3d\": [{\"colorbar\": {\"outlinewidth\": 0, \"ticks\": \"\"}, \"type\": \"mesh3d\"}], \"parcoords\": [{\"line\": {\"colorbar\": {\"outlinewidth\": 0, \"ticks\": \"\"}}, \"type\": \"parcoords\"}], \"pie\": [{\"automargin\": true, \"type\": \"pie\"}], \"scatter\": [{\"marker\": {\"colorbar\": {\"outlinewidth\": 0, \"ticks\": \"\"}}, \"type\": \"scatter\"}], \"scatter3d\": [{\"line\": {\"colorbar\": {\"outlinewidth\": 0, \"ticks\": \"\"}}, \"marker\": {\"colorbar\": {\"outlinewidth\": 0, \"ticks\": \"\"}}, \"type\": \"scatter3d\"}], \"scattercarpet\": [{\"marker\": {\"colorbar\": {\"outlinewidth\": 0, \"ticks\": \"\"}}, \"type\": \"scattercarpet\"}], \"scattergeo\": [{\"marker\": {\"colorbar\": {\"outlinewidth\": 0, \"ticks\": \"\"}}, \"type\": \"scattergeo\"}], \"scattergl\": [{\"marker\": {\"colorbar\": {\"outlinewidth\": 0, \"ticks\": \"\"}}, \"type\": \"scattergl\"}], \"scattermapbox\": [{\"marker\": {\"colorbar\": {\"outlinewidth\": 0, \"ticks\": \"\"}}, \"type\": \"scattermapbox\"}], \"scatterpolar\": [{\"marker\": {\"colorbar\": {\"outlinewidth\": 0, \"ticks\": \"\"}}, \"type\": \"scatterpolar\"}], \"scatterpolargl\": [{\"marker\": {\"colorbar\": {\"outlinewidth\": 0, \"ticks\": \"\"}}, \"type\": \"scatterpolargl\"}], \"scatterternary\": [{\"marker\": {\"colorbar\": {\"outlinewidth\": 0, \"ticks\": \"\"}}, \"type\": \"scatterternary\"}], \"surface\": [{\"colorbar\": {\"outlinewidth\": 0, \"ticks\": \"\"}, \"colorscale\": [[0.0, \"#0d0887\"], [0.1111111111111111, \"#46039f\"], [0.2222222222222222, \"#7201a8\"], [0.3333333333333333, \"#9c179e\"], [0.4444444444444444, \"#bd3786\"], [0.5555555555555556, \"#d8576b\"], [0.6666666666666666, \"#ed7953\"], [0.7777777777777778, \"#fb9f3a\"], [0.8888888888888888, \"#fdca26\"], [1.0, \"#f0f921\"]], \"type\": \"surface\"}], \"table\": [{\"cells\": {\"fill\": {\"color\": \"#EBF0F8\"}, \"line\": {\"color\": \"white\"}}, \"header\": {\"fill\": {\"color\": \"#C8D4E3\"}, \"line\": {\"color\": \"white\"}}, \"type\": \"table\"}]}, \"layout\": {\"annotationdefaults\": {\"arrowcolor\": \"#2a3f5f\", \"arrowhead\": 0, \"arrowwidth\": 1}, \"coloraxis\": {\"colorbar\": {\"outlinewidth\": 0, \"ticks\": \"\"}}, \"colorscale\": {\"diverging\": [[0, \"#8e0152\"], [0.1, \"#c51b7d\"], [0.2, \"#de77ae\"], [0.3, \"#f1b6da\"], [0.4, \"#fde0ef\"], [0.5, \"#f7f7f7\"], [0.6, \"#e6f5d0\"], [0.7, \"#b8e186\"], [0.8, \"#7fbc41\"], [0.9, \"#4d9221\"], [1, \"#276419\"]], \"sequential\": [[0.0, \"#0d0887\"], [0.1111111111111111, \"#46039f\"], [0.2222222222222222, \"#7201a8\"], [0.3333333333333333, \"#9c179e\"], [0.4444444444444444, \"#bd3786\"], [0.5555555555555556, \"#d8576b\"], [0.6666666666666666, \"#ed7953\"], [0.7777777777777778, \"#fb9f3a\"], [0.8888888888888888, \"#fdca26\"], [1.0, \"#f0f921\"]], \"sequentialminus\": [[0.0, \"#0d0887\"], [0.1111111111111111, \"#46039f\"], [0.2222222222222222, \"#7201a8\"], [0.3333333333333333, \"#9c179e\"], [0.4444444444444444, \"#bd3786\"], [0.5555555555555556, \"#d8576b\"], [0.6666666666666666, \"#ed7953\"], [0.7777777777777778, \"#fb9f3a\"], [0.8888888888888888, \"#fdca26\"], [1.0, \"#f0f921\"]]}, \"colorway\": [\"#636efa\", \"#EF553B\", \"#00cc96\", \"#ab63fa\", \"#FFA15A\", \"#19d3f3\", \"#FF6692\", \"#B6E880\", \"#FF97FF\", \"#FECB52\"], \"font\": {\"color\": \"#2a3f5f\"}, \"geo\": {\"bgcolor\": \"white\", \"lakecolor\": \"white\", \"landcolor\": \"#E5ECF6\", \"showlakes\": true, \"showland\": true, \"subunitcolor\": \"white\"}, \"hoverlabel\": {\"align\": \"left\"}, \"hovermode\": \"closest\", \"mapbox\": {\"style\": \"light\"}, \"paper_bgcolor\": \"white\", \"plot_bgcolor\": \"#E5ECF6\", \"polar\": {\"angularaxis\": {\"gridcolor\": \"white\", \"linecolor\": \"white\", \"ticks\": \"\"}, \"bgcolor\": \"#E5ECF6\", \"radialaxis\": {\"gridcolor\": \"white\", \"linecolor\": \"white\", \"ticks\": \"\"}}, \"scene\": {\"xaxis\": {\"backgroundcolor\": \"#E5ECF6\", \"gridcolor\": \"white\", \"gridwidth\": 2, \"linecolor\": \"white\", \"showbackground\": true, \"ticks\": \"\", \"zerolinecolor\": \"white\"}, \"yaxis\": {\"backgroundcolor\": \"#E5ECF6\", \"gridcolor\": \"white\", \"gridwidth\": 2, \"linecolor\": \"white\", \"showbackground\": true, \"ticks\": \"\", \"zerolinecolor\": \"white\"}, \"zaxis\": {\"backgroundcolor\": \"#E5ECF6\", \"gridcolor\": \"white\", \"gridwidth\": 2, \"linecolor\": \"white\", \"showbackground\": true, \"ticks\": \"\", \"zerolinecolor\": \"white\"}}, \"shapedefaults\": {\"line\": {\"color\": \"#2a3f5f\"}}, \"ternary\": {\"aaxis\": {\"gridcolor\": \"white\", \"linecolor\": \"white\", \"ticks\": \"\"}, \"baxis\": {\"gridcolor\": \"white\", \"linecolor\": \"white\", \"ticks\": \"\"}, \"bgcolor\": \"#E5ECF6\", \"caxis\": {\"gridcolor\": \"white\", \"linecolor\": \"white\", \"ticks\": \"\"}}, \"title\": {\"x\": 0.05}, \"xaxis\": {\"automargin\": true, \"gridcolor\": \"white\", \"linecolor\": \"white\", \"ticks\": \"\", \"title\": {\"standoff\": 15}, \"zerolinecolor\": \"white\", \"zerolinewidth\": 2}, \"yaxis\": {\"automargin\": true, \"gridcolor\": \"white\", \"linecolor\": \"white\", \"ticks\": \"\", \"title\": {\"standoff\": 15}, \"zerolinecolor\": \"white\", \"zerolinewidth\": 2}}}},\n",
       "                        {\"responsive\": true}\n",
       "                    ).then(function(){\n",
       "                            \n",
       "var gd = document.getElementById('adea7e21-d187-4e2b-a729-251f4c47eeb7');\n",
       "var x = new MutationObserver(function (mutations, observer) {{\n",
       "        var display = window.getComputedStyle(gd).display;\n",
       "        if (!display || display === 'none') {{\n",
       "            console.log([gd, 'removed!']);\n",
       "            Plotly.purge(gd);\n",
       "            observer.disconnect();\n",
       "        }}\n",
       "}});\n",
       "\n",
       "// Listen for the removal of the full notebook cells\n",
       "var notebookContainer = gd.closest('#notebook-container');\n",
       "if (notebookContainer) {{\n",
       "    x.observe(notebookContainer, {childList: true});\n",
       "}}\n",
       "\n",
       "// Listen for the clearing of the current output cell\n",
       "var outputEl = gd.closest('.output');\n",
       "if (outputEl) {{\n",
       "    x.observe(outputEl, {childList: true});\n",
       "}}\n",
       "\n",
       "                        })\n",
       "                };\n",
       "                });\n",
       "            </script>\n",
       "        </div>"
      ]
     },
     "metadata": {},
     "output_type": "display_data"
    }
   ],
   "source": [
    "fig.show()"
   ]
  },
  {
   "cell_type": "code",
   "execution_count": 74,
   "metadata": {},
   "outputs": [],
   "source": [
    "latest_confirmed = confirmed_df[dates[-1]]\n",
    "latest_deaths = deaths_df[dates[-1]]\n",
    "latest_recoveries = recoveries_df[dates[-1]]\n",
    "unique_countries =  list(confirmed_df['Country/Region'].unique())\n",
    "country_confirmed_cases = []\n",
    "no_cases = []\n",
    "for i in unique_countries:\n",
    "    cases = latest_confirmed[confirmed_df['Country/Region']==i].sum()\n",
    "    if cases > 0:\n",
    "        country_confirmed_cases.append(cases)\n",
    "    else:\n",
    "        no_cases.append(i)\n",
    "        \n",
    "for i in no_cases:\n",
    "    unique_countries.remove(i)\n",
    "    \n",
    "unique_countries = [k for k, v in sorted(zip(unique_countries, country_confirmed_cases), key=operator.itemgetter(1), reverse=True)]\n",
    "for i in range(len(unique_countries)):\n",
    "    country_confirmed_cases[i] = latest_confirmed[confirmed_df['Country/Region']==unique_countries[i]].sum()"
   ]
  },
  {
   "cell_type": "code",
   "execution_count": 75,
   "metadata": {},
   "outputs": [
    {
     "name": "stdout",
     "output_type": "stream",
     "text": [
      "Confirmed Cases by Countries/Regions:\n",
      "China: 81058 cases\n",
      "Italy: 31506 cases\n",
      "Iran: 16169 cases\n",
      "Spain: 11748 cases\n",
      "Germany: 9257 cases\n",
      "Korea, South: 8320 cases\n",
      "France: 7699 cases\n",
      "US: 6421 cases\n",
      "Switzerland: 2700 cases\n",
      "United Kingdom: 1960 cases\n",
      "Netherlands: 1708 cases\n",
      "Norway: 1463 cases\n",
      "Austria: 1332 cases\n",
      "Belgium: 1243 cases\n",
      "Sweden: 1190 cases\n",
      "Denmark: 1024 cases\n",
      "Japan: 878 cases\n",
      "Cruise Ship: 696 cases\n",
      "Malaysia: 673 cases\n",
      "Canada: 478 cases\n",
      "Australia: 452 cases\n",
      "Portugal: 448 cases\n",
      "Qatar: 439 cases\n",
      "Czechia: 396 cases\n",
      "Greece: 387 cases\n",
      "Israel: 337 cases\n",
      "Finland: 321 cases\n",
      "Brazil: 321 cases\n",
      "Slovenia: 275 cases\n",
      "Singapore: 266 cases\n",
      "Poland: 238 cases\n",
      "Pakistan: 236 cases\n",
      "Bahrain: 228 cases\n",
      "Estonia: 225 cases\n",
      "Ireland: 223 cases\n",
      "Iceland: 220 cases\n",
      "Chile: 201 cases\n",
      "Egypt: 196 cases\n",
      "Philippines: 187 cases\n",
      "Romania: 184 cases\n",
      "Thailand: 177 cases\n",
      "Indonesia: 172 cases\n",
      "Saudi Arabia: 171 cases\n",
      "Iraq: 154 cases\n",
      "India: 142 cases\n",
      "Luxembourg: 140 cases\n",
      "Kuwait: 130 cases\n",
      "Lebanon: 120 cases\n",
      "Peru: 117 cases\n",
      "Russia: 114 cases\n",
      "San Marino: 109 cases\n",
      "United Arab Emirates: 98 cases\n",
      "Mexico: 82 cases\n",
      "Armenia: 78 cases\n",
      "Taiwan*: 77 cases\n",
      "Slovakia: 72 cases\n",
      "Panama: 69 cases\n",
      "Argentina: 68 cases\n",
      "Bulgaria: 67 cases\n",
      "Vietnam: 66 cases\n",
      "Croatia: 65 cases\n",
      "Colombia: 65 cases\n",
      "Serbia: 65 cases\n",
      "South Africa: 62 cases\n",
      "Algeria: 60 cases\n",
      "Ecuador: 58 cases\n",
      "Brunei: 56 cases\n",
      "Albania: 55 cases\n",
      "Hungary: 50 cases\n",
      "Latvia: 49 cases\n",
      "Turkey: 47 cases\n",
      "Cyprus: 46 cases\n",
      "Sri Lanka: 44 cases\n",
      "Costa Rica: 41 cases\n",
      "Andorra: 39 cases\n",
      "Morocco: 38 cases\n",
      "Malta: 38 cases\n",
      "Belarus: 36 cases\n",
      "Georgia: 34 cases\n",
      "Jordan: 34 cases\n",
      "Cambodia: 33 cases\n",
      "Kazakhstan: 33 cases\n",
      "Venezuela: 33 cases\n",
      "Moldova: 30 cases\n",
      "Uruguay: 29 cases\n",
      "Azerbaijan: 28 cases\n",
      "North Macedonia: 26 cases\n",
      "Senegal: 26 cases\n",
      "Bosnia and Herzegovina: 26 cases\n",
      "Lithuania: 25 cases\n",
      "Oman: 24 cases\n",
      "Tunisia: 24 cases\n",
      "Afghanistan: 22 cases\n",
      "Dominican Republic: 21 cases\n",
      "Martinique: 16 cases\n",
      "Burkina Faso: 15 cases\n",
      "Ukraine: 14 cases\n",
      "Maldives: 13 cases\n",
      "New Zealand: 12 cases\n",
      "Jamaica: 12 cases\n",
      "Bolivia: 11 cases\n",
      "Cameroon: 10 cases\n",
      "Bangladesh: 10 cases\n",
      "Uzbekistan: 10 cases\n",
      "Paraguay: 9 cases\n",
      "Honduras: 8 cases\n",
      "Monaco: 7 cases\n",
      "Liechtenstein: 7 cases\n",
      "Guyana: 7 cases\n",
      "Ghana: 7 cases\n",
      "Rwanda: 7 cases\n",
      "Guatemala: 6 cases\n",
      "Mongolia: 5 cases\n",
      "Cote d'Ivoire: 5 cases\n",
      "Cuba: 5 cases\n",
      "Ethiopia: 5 cases\n",
      "Trinidad and Tobago: 5 cases\n",
      "Seychelles: 4 cases\n",
      "Nigeria: 3 cases\n",
      "Congo (Kinshasa): 3 cases\n",
      "Aruba: 3 cases\n",
      "Kenya: 3 cases\n",
      "Jersey: 2 cases\n",
      "Namibia: 2 cases\n",
      "Saint Lucia: 2 cases\n",
      "Kosovo: 2 cases\n",
      "Barbados: 2 cases\n",
      "Montenegro: 2 cases\n",
      "Nepal: 1 cases\n",
      "Bhutan: 1 cases\n",
      "Togo: 1 cases\n",
      "Holy See: 1 cases\n",
      "Sudan: 1 cases\n",
      "Guinea: 1 cases\n",
      "Antigua and Barbuda: 1 cases\n",
      "Eswatini: 1 cases\n",
      "Gabon: 1 cases\n",
      "Guernsey: 1 cases\n",
      "Mauritania: 1 cases\n",
      "Saint Vincent and the Grenadines: 1 cases\n",
      "Suriname: 1 cases\n",
      "Central African Republic: 1 cases\n",
      "Congo (Brazzaville): 1 cases\n",
      "Equatorial Guinea: 1 cases\n",
      "Benin: 1 cases\n",
      "Greenland: 1 cases\n",
      "Liberia: 1 cases\n",
      "Republic of the Congo: 1 cases\n",
      "Somalia: 1 cases\n",
      "Tanzania: 1 cases\n",
      "The Bahamas: 1 cases\n",
      "The Gambia: 1 cases\n"
     ]
    }
   ],
   "source": [
    "# number of cases per country/region\n",
    "print('Confirmed Cases by Countries/Regions:')\n",
    "for i in range(len(unique_countries)):\n",
    "    print(f'{unique_countries[i]}: {country_confirmed_cases[i]} cases')\n",
    "    "
   ]
  },
  {
   "cell_type": "code",
   "execution_count": null,
   "metadata": {},
   "outputs": [],
   "source": []
  }
 ],
 "metadata": {
  "kernelspec": {
   "display_name": "Python 3",
   "language": "python",
   "name": "python3"
  },
  "language_info": {
   "codemirror_mode": {
    "name": "ipython",
    "version": 3
   },
   "file_extension": ".py",
   "mimetype": "text/x-python",
   "name": "python",
   "nbconvert_exporter": "python",
   "pygments_lexer": "ipython3",
   "version": "3.7.3"
  }
 },
 "nbformat": 4,
 "nbformat_minor": 2
}
